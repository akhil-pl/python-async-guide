{
 "cells": [
  {
   "cell_type": "markdown",
   "metadata": {},
   "source": [
    "# 🧪 Python Concurrency Demo\n",
    "\n",
    "This notebook demonstrates key concepts in Python concurrency using threading, asyncio, and run_in_executor."
   ]
  },
  {
   "cell_type": "code",
   "execution_count": null,
   "metadata": {},
   "outputs": [],
   "source": [
    "# ✅ Basic async/await\n",
    "import asyncio\n",
    "\n",
    "async def greet(name):\n",
    "    await asyncio.sleep(1)\n",
    "    print(f\"Hello, {name}\")\n",
    "\n",
    "await asyncio.gather(greet(\"Alice\"), greet(\"Bob\"))"
   ]
  },
  {
   "cell_type": "code",
   "execution_count": null,
   "metadata": {},
   "outputs": [],
   "source": [
    "# ⏱️ Compare sync vs async HTTP requests\n",
    "import time\n",
    "import httpx\n",
    "import requests\n",
    "\n",
    "urls = [\"https://httpbin.org/delay/1\" for _ in range(3)]\n",
    "\n",
    "def fetch_sync():\n",
    "    start = time.time()\n",
    "    for url in urls:\n",
    "        requests.get(url)\n",
    "    print(f\"Sync took {time.time() - start:.2f}s\")\n",
    "\n",
    "async def fetch_async():\n",
    "    start = time.time()\n",
    "    async with httpx.AsyncClient() as client:\n",
    "        await asyncio.gather(*(client.get(url) for url in urls))\n",
    "    print(f\"Async took {time.time() - start:.2f}s\")"
   ]
  },
  {
   "cell_type": "code",
   "execution_count": null,
   "metadata": {},
   "outputs": [],
   "source": [
    "# Run them:\n",
    "fetch_sync()\n",
    "await fetch_async()"
   ]
  },
  {
   "cell_type": "code",
   "execution_count": null,
   "metadata": {},
   "outputs": [],
   "source": [
    "# 🧵 Run blocking code in executor\n",
    "def cpu_bound():\n",
    "    sum(x * x for x in range(10**6))\n",
    "\n",
    "async def main():\n",
    "    loop = asyncio.get_running_loop()\n",
    "    await asyncio.gather(*(loop.run_in_executor(None, cpu_bound) for _ in range(5)))\n",
    "\n",
    "await main()"
   ]
  },
  {
   "cell_type": "markdown",
   "metadata": {},
   "source": [
    "---\n",
    "\n",
    "✅ Try adjusting the number of requests or CPU calls to see how Python handles concurrency!"
   ]
  }
 ],
 "metadata": {
  "kernelspec": {
   "display_name": "Python 3",
   "language": "python",
   "name": "python3"
  },
  "language_info": {
   "name": "python",
   "version": "3.10"
  }
 },
 "nbformat": 4,
 "nbformat_minor": 5
}